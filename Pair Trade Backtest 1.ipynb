{
 "cells": [
  {
   "cell_type": "code",
   "execution_count": 10,
   "id": "f39c8aa4",
   "metadata": {},
   "outputs": [],
   "source": [
    "import yfinance as yf\n",
    "import pandas as pd\n",
    "import datetime as dt"
   ]
  },
  {
   "cell_type": "markdown",
   "id": "35193c3a",
   "metadata": {},
   "source": [
    "Why The Buckle and CROX? Both midcap (2-10bn), both IPO more than 5 years ago. Both consumer cyclicals. Both 20%+ operating margins"
   ]
  },
  {
   "cell_type": "code",
   "execution_count": 33,
   "id": "fc5f8008",
   "metadata": {},
   "outputs": [
    {
     "data": {
      "text/plain": [
       "datetime.timedelta(days=487)"
      ]
     },
     "execution_count": 33,
     "metadata": {},
     "output_type": "execute_result"
    }
   ],
   "source": [
    "tickers= ['CROX', 'BKE']\n",
    "\n",
    "start_date= dt.datetime(2020,3,1)\n",
    "end_date= dt.datetime(2021,7,1)\n",
    "\n",
    "end_date-start_date\n",
    "\n"
   ]
  },
  {
   "cell_type": "code",
   "execution_count": 48,
   "id": "3820505b",
   "metadata": {},
   "outputs": [
    {
     "name": "stdout",
     "output_type": "stream",
     "text": [
      "[*********************100%***********************]  2 of 2 completed\n"
     ]
    },
    {
     "data": {
      "text/html": [
       "<div>\n",
       "<style scoped>\n",
       "    .dataframe tbody tr th:only-of-type {\n",
       "        vertical-align: middle;\n",
       "    }\n",
       "\n",
       "    .dataframe tbody tr th {\n",
       "        vertical-align: top;\n",
       "    }\n",
       "\n",
       "    .dataframe thead th {\n",
       "        text-align: right;\n",
       "    }\n",
       "</style>\n",
       "<table border=\"1\" class=\"dataframe\">\n",
       "  <thead>\n",
       "    <tr style=\"text-align: right;\">\n",
       "      <th></th>\n",
       "      <th>BKE</th>\n",
       "      <th>CROX</th>\n",
       "    </tr>\n",
       "    <tr>\n",
       "      <th>Date</th>\n",
       "      <th></th>\n",
       "      <th></th>\n",
       "    </tr>\n",
       "  </thead>\n",
       "  <tbody>\n",
       "    <tr>\n",
       "      <th>2020-03-02</th>\n",
       "      <td>21.017149</td>\n",
       "      <td>26.540001</td>\n",
       "    </tr>\n",
       "    <tr>\n",
       "      <th>2020-03-03</th>\n",
       "      <td>20.689468</td>\n",
       "      <td>26.070000</td>\n",
       "    </tr>\n",
       "    <tr>\n",
       "      <th>2020-03-04</th>\n",
       "      <td>20.270763</td>\n",
       "      <td>26.870001</td>\n",
       "    </tr>\n",
       "    <tr>\n",
       "      <th>2020-03-05</th>\n",
       "      <td>19.424252</td>\n",
       "      <td>24.150000</td>\n",
       "    </tr>\n",
       "    <tr>\n",
       "      <th>2020-03-06</th>\n",
       "      <td>19.697319</td>\n",
       "      <td>24.230000</td>\n",
       "    </tr>\n",
       "    <tr>\n",
       "      <th>...</th>\n",
       "      <td>...</td>\n",
       "      <td>...</td>\n",
       "    </tr>\n",
       "    <tr>\n",
       "      <th>2021-06-24</th>\n",
       "      <td>45.410000</td>\n",
       "      <td>113.120003</td>\n",
       "    </tr>\n",
       "    <tr>\n",
       "      <th>2021-06-25</th>\n",
       "      <td>46.509998</td>\n",
       "      <td>114.410004</td>\n",
       "    </tr>\n",
       "    <tr>\n",
       "      <th>2021-06-28</th>\n",
       "      <td>45.869999</td>\n",
       "      <td>116.059998</td>\n",
       "    </tr>\n",
       "    <tr>\n",
       "      <th>2021-06-29</th>\n",
       "      <td>46.660000</td>\n",
       "      <td>115.650002</td>\n",
       "    </tr>\n",
       "    <tr>\n",
       "      <th>2021-06-30</th>\n",
       "      <td>49.750000</td>\n",
       "      <td>116.519997</td>\n",
       "    </tr>\n",
       "  </tbody>\n",
       "</table>\n",
       "<p>337 rows × 2 columns</p>\n",
       "</div>"
      ],
      "text/plain": [
       "                  BKE        CROX\n",
       "Date                             \n",
       "2020-03-02  21.017149   26.540001\n",
       "2020-03-03  20.689468   26.070000\n",
       "2020-03-04  20.270763   26.870001\n",
       "2020-03-05  19.424252   24.150000\n",
       "2020-03-06  19.697319   24.230000\n",
       "...               ...         ...\n",
       "2021-06-24  45.410000  113.120003\n",
       "2021-06-25  46.509998  114.410004\n",
       "2021-06-28  45.869999  116.059998\n",
       "2021-06-29  46.660000  115.650002\n",
       "2021-06-30  49.750000  116.519997\n",
       "\n",
       "[337 rows x 2 columns]"
      ]
     },
     "execution_count": 48,
     "metadata": {},
     "output_type": "execute_result"
    }
   ],
   "source": [
    "#stock_prices= yf.download(tickers, start='2020-03-01', end='2021-07-01')['Adj Close']\n",
    "stock_prices= yf.download(tickers, start= start_date, end= end_date)['Adj Close']\n",
    "stock_prices"
   ]
  },
  {
   "cell_type": "code",
   "execution_count": 49,
   "id": "e272a86c",
   "metadata": {},
   "outputs": [
    {
     "data": {
      "text/plain": [
       "0.9566274011802433"
      ]
     },
     "execution_count": 49,
     "metadata": {},
     "output_type": "execute_result"
    }
   ],
   "source": [
    "stock_prices['BKE'].corr(stock_prices['CROX'])"
   ]
  },
  {
   "cell_type": "code",
   "execution_count": 50,
   "id": "1de0a636",
   "metadata": {},
   "outputs": [
    {
     "data": {
      "text/html": [
       "<div>\n",
       "<style scoped>\n",
       "    .dataframe tbody tr th:only-of-type {\n",
       "        vertical-align: middle;\n",
       "    }\n",
       "\n",
       "    .dataframe tbody tr th {\n",
       "        vertical-align: top;\n",
       "    }\n",
       "\n",
       "    .dataframe thead th {\n",
       "        text-align: right;\n",
       "    }\n",
       "</style>\n",
       "<table border=\"1\" class=\"dataframe\">\n",
       "  <thead>\n",
       "    <tr style=\"text-align: right;\">\n",
       "      <th></th>\n",
       "      <th>BKE</th>\n",
       "      <th>CROX</th>\n",
       "    </tr>\n",
       "    <tr>\n",
       "      <th>Date</th>\n",
       "      <th></th>\n",
       "      <th></th>\n",
       "    </tr>\n",
       "  </thead>\n",
       "  <tbody>\n",
       "    <tr>\n",
       "      <th>2020-03-03</th>\n",
       "      <td>-0.015591</td>\n",
       "      <td>-0.017709</td>\n",
       "    </tr>\n",
       "    <tr>\n",
       "      <th>2020-03-04</th>\n",
       "      <td>-0.020238</td>\n",
       "      <td>0.030687</td>\n",
       "    </tr>\n",
       "    <tr>\n",
       "      <th>2020-03-05</th>\n",
       "      <td>-0.041760</td>\n",
       "      <td>-0.101228</td>\n",
       "    </tr>\n",
       "    <tr>\n",
       "      <th>2020-03-06</th>\n",
       "      <td>0.014058</td>\n",
       "      <td>0.003313</td>\n",
       "    </tr>\n",
       "    <tr>\n",
       "      <th>2020-03-09</th>\n",
       "      <td>-0.071627</td>\n",
       "      <td>-0.110194</td>\n",
       "    </tr>\n",
       "    <tr>\n",
       "      <th>...</th>\n",
       "      <td>...</td>\n",
       "      <td>...</td>\n",
       "    </tr>\n",
       "    <tr>\n",
       "      <th>2021-06-24</th>\n",
       "      <td>0.028306</td>\n",
       "      <td>0.016809</td>\n",
       "    </tr>\n",
       "    <tr>\n",
       "      <th>2021-06-25</th>\n",
       "      <td>0.024224</td>\n",
       "      <td>0.011404</td>\n",
       "    </tr>\n",
       "    <tr>\n",
       "      <th>2021-06-28</th>\n",
       "      <td>-0.013760</td>\n",
       "      <td>0.014422</td>\n",
       "    </tr>\n",
       "    <tr>\n",
       "      <th>2021-06-29</th>\n",
       "      <td>0.017223</td>\n",
       "      <td>-0.003533</td>\n",
       "    </tr>\n",
       "    <tr>\n",
       "      <th>2021-06-30</th>\n",
       "      <td>0.066224</td>\n",
       "      <td>0.007523</td>\n",
       "    </tr>\n",
       "  </tbody>\n",
       "</table>\n",
       "<p>336 rows × 2 columns</p>\n",
       "</div>"
      ],
      "text/plain": [
       "                 BKE      CROX\n",
       "Date                          \n",
       "2020-03-03 -0.015591 -0.017709\n",
       "2020-03-04 -0.020238  0.030687\n",
       "2020-03-05 -0.041760 -0.101228\n",
       "2020-03-06  0.014058  0.003313\n",
       "2020-03-09 -0.071627 -0.110194\n",
       "...              ...       ...\n",
       "2021-06-24  0.028306  0.016809\n",
       "2021-06-25  0.024224  0.011404\n",
       "2021-06-28 -0.013760  0.014422\n",
       "2021-06-29  0.017223 -0.003533\n",
       "2021-06-30  0.066224  0.007523\n",
       "\n",
       "[336 rows x 2 columns]"
      ]
     },
     "execution_count": 50,
     "metadata": {},
     "output_type": "execute_result"
    }
   ],
   "source": [
    "stock_prices.index = pd.to_datetime(stock_prices.index)\n",
    "stock_rets= stock_prices.pct_change()\n",
    "\n",
    "stock_rets1= stock_rets.dropna()\n",
    "stock_rets1"
   ]
  },
  {
   "cell_type": "code",
   "execution_count": 58,
   "id": "e8cf34cf",
   "metadata": {},
   "outputs": [
    {
     "name": "stderr",
     "output_type": "stream",
     "text": [
      "<ipython-input-58-c1865ae6ad0f>:1: SettingWithCopyWarning: \n",
      "A value is trying to be set on a copy of a slice from a DataFrame.\n",
      "Try using .loc[row_indexer,col_indexer] = value instead\n",
      "\n",
      "See the caveats in the documentation: https://pandas.pydata.org/pandas-docs/stable/user_guide/indexing.html#returning-a-view-versus-a-copy\n",
      "  stock_rets1['LS']= - stock_rets1['BKE'] + stock_rets1['CROX']\n"
     ]
    },
    {
     "data": {
      "text/html": [
       "<div>\n",
       "<style scoped>\n",
       "    .dataframe tbody tr th:only-of-type {\n",
       "        vertical-align: middle;\n",
       "    }\n",
       "\n",
       "    .dataframe tbody tr th {\n",
       "        vertical-align: top;\n",
       "    }\n",
       "\n",
       "    .dataframe thead th {\n",
       "        text-align: right;\n",
       "    }\n",
       "</style>\n",
       "<table border=\"1\" class=\"dataframe\">\n",
       "  <thead>\n",
       "    <tr style=\"text-align: right;\">\n",
       "      <th></th>\n",
       "      <th>BKE</th>\n",
       "      <th>CROX</th>\n",
       "      <th>LS</th>\n",
       "    </tr>\n",
       "    <tr>\n",
       "      <th>Date</th>\n",
       "      <th></th>\n",
       "      <th></th>\n",
       "      <th></th>\n",
       "    </tr>\n",
       "  </thead>\n",
       "  <tbody>\n",
       "    <tr>\n",
       "      <th>2020-03-03</th>\n",
       "      <td>-0.015591</td>\n",
       "      <td>-0.017709</td>\n",
       "      <td>-0.002118</td>\n",
       "    </tr>\n",
       "    <tr>\n",
       "      <th>2020-03-04</th>\n",
       "      <td>-0.020238</td>\n",
       "      <td>0.030687</td>\n",
       "      <td>0.050924</td>\n",
       "    </tr>\n",
       "    <tr>\n",
       "      <th>2020-03-05</th>\n",
       "      <td>-0.041760</td>\n",
       "      <td>-0.101228</td>\n",
       "      <td>-0.059468</td>\n",
       "    </tr>\n",
       "    <tr>\n",
       "      <th>2020-03-06</th>\n",
       "      <td>0.014058</td>\n",
       "      <td>0.003313</td>\n",
       "      <td>-0.010745</td>\n",
       "    </tr>\n",
       "    <tr>\n",
       "      <th>2020-03-09</th>\n",
       "      <td>-0.071627</td>\n",
       "      <td>-0.110194</td>\n",
       "      <td>-0.038567</td>\n",
       "    </tr>\n",
       "    <tr>\n",
       "      <th>...</th>\n",
       "      <td>...</td>\n",
       "      <td>...</td>\n",
       "      <td>...</td>\n",
       "    </tr>\n",
       "    <tr>\n",
       "      <th>2021-06-24</th>\n",
       "      <td>0.028306</td>\n",
       "      <td>0.016809</td>\n",
       "      <td>-0.011497</td>\n",
       "    </tr>\n",
       "    <tr>\n",
       "      <th>2021-06-25</th>\n",
       "      <td>0.024224</td>\n",
       "      <td>0.011404</td>\n",
       "      <td>-0.012820</td>\n",
       "    </tr>\n",
       "    <tr>\n",
       "      <th>2021-06-28</th>\n",
       "      <td>-0.013760</td>\n",
       "      <td>0.014422</td>\n",
       "      <td>0.028182</td>\n",
       "    </tr>\n",
       "    <tr>\n",
       "      <th>2021-06-29</th>\n",
       "      <td>0.017223</td>\n",
       "      <td>-0.003533</td>\n",
       "      <td>-0.020755</td>\n",
       "    </tr>\n",
       "    <tr>\n",
       "      <th>2021-06-30</th>\n",
       "      <td>0.066224</td>\n",
       "      <td>0.007523</td>\n",
       "      <td>-0.058701</td>\n",
       "    </tr>\n",
       "  </tbody>\n",
       "</table>\n",
       "<p>336 rows × 3 columns</p>\n",
       "</div>"
      ],
      "text/plain": [
       "                 BKE      CROX        LS\n",
       "Date                                    \n",
       "2020-03-03 -0.015591 -0.017709 -0.002118\n",
       "2020-03-04 -0.020238  0.030687  0.050924\n",
       "2020-03-05 -0.041760 -0.101228 -0.059468\n",
       "2020-03-06  0.014058  0.003313 -0.010745\n",
       "2020-03-09 -0.071627 -0.110194 -0.038567\n",
       "...              ...       ...       ...\n",
       "2021-06-24  0.028306  0.016809 -0.011497\n",
       "2021-06-25  0.024224  0.011404 -0.012820\n",
       "2021-06-28 -0.013760  0.014422  0.028182\n",
       "2021-06-29  0.017223 -0.003533 -0.020755\n",
       "2021-06-30  0.066224  0.007523 -0.058701\n",
       "\n",
       "[336 rows x 3 columns]"
      ]
     },
     "execution_count": 58,
     "metadata": {},
     "output_type": "execute_result"
    }
   ],
   "source": [
    "stock_rets1['LS']= - stock_rets1['BKE'] + stock_rets1['CROX']\n",
    "stock_rets1"
   ]
  },
  {
   "cell_type": "code",
   "execution_count": 59,
   "id": "0779056f",
   "metadata": {},
   "outputs": [
    {
     "name": "stdout",
     "output_type": "stream",
     "text": [
      "Long CROX short BKE\n"
     ]
    },
    {
     "data": {
      "image/png": "[encoded data removed]",
      "text/plain": [
       "<Figure size 432x288 with 1 Axes>"
      ]
     },
     "metadata": {
      "needs_background": "light"
     },
     "output_type": "display_data"
    }
   ],
   "source": [
    "indexed_profits = [100]\n",
    "x = 100\n",
    "for i in stock_rets1['LS']:\n",
    "    x = x*(1+i)\n",
    "    indexed_profits.append(x)\n",
    "indexed_frame = pd.DataFrame(indexed_profits)\n",
    "indexed_frame['Date']= stock_rets.index\n",
    "indexed_frame = indexed_frame.set_index('Date')\n",
    "indexed_frame.columns = ['L/S Profit']\n",
    "\n",
    "indexed_frame.plot()\n",
    "print(\"Long CROX short BKE\")"
   ]
  },
  {
   "cell_type": "markdown",
   "id": "519532c1",
   "metadata": {},
   "source": [
    "measure risk of strategy. what is maximum daily drawdown? WHat about prolonged drawdowns? Compare vs market, evaluate sharpes and correlations, when does the strategy work well?"
   ]
  }
 ],
 "metadata": {
  "kernelspec": {
   "display_name": "Python 3",
   "language": "python",
   "name": "python3"
  },
  "language_info": {
   "codemirror_mode": {
    "name": "ipython",
    "version": 3
   },
   "file_extension": ".py",
   "mimetype": "text/x-python",
   "name": "python",
   "nbconvert_exporter": "python",
   "pygments_lexer": "ipython3",
   "version": "3.9.5"
  }
 },
 "nbformat": 4,
 "nbformat_minor": 5
}
