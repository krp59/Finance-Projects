{
 "cells": [
  {
   "cell_type": "markdown",
   "id": "e5473f09",
   "metadata": {},
   "source": [
    "# S&P500 L/S 11-month rolling momentum strategy\n",
    "Code taken from https://www.youtube.com/watch?v=5W_Lpz1ZuTI\n",
    "This strategy aims to construct a long short portfolio of the top 10% and bottom 10% of performers each month in the SP500 based on rolling 11 month performance. Will long the winners and short the losers, and profit from the spread. "
   ]
  },
  {
   "cell_type": "code",
   "execution_count": 1,
   "id": "fe713dd9",
   "metadata": {},
   "outputs": [],
   "source": [
    "import numpy as np\n",
    "import pandas as pd\n",
    "import pickle\n",
    "import datetime as dt\n",
    "from pandas.tseries.offsets import MonthEnd\n",
    "\n",
    "#import yfinance as yf\n",
    "#import csv"
   ]
  },
  {
   "cell_type": "markdown",
   "id": "716d49dd",
   "metadata": {},
   "source": [
    "#### Read data from yfinance locally, sort "
   ]
  },
  {
   "cell_type": "code",
   "execution_count": 2,
   "id": "6e57da5e",
   "metadata": {},
   "outputs": [],
   "source": [
    "df2= pd.read_pickle(\"SP500_11yr.pkl\")\n",
    "#filter for prices\n",
    "prices =df2['Adj Close']\n",
    "\n",
    "#convert index from string into datetime\n",
    "prices.index= pd.to_datetime(prices.index)\n"
   ]
  },
  {
   "cell_type": "markdown",
   "id": "ab9502b8",
   "metadata": {},
   "source": [
    "Find monthly returns, and cumulate them on an 11 year rolling basis for all SP500 stocks"
   ]
  },
  {
   "cell_type": "code",
   "execution_count": 3,
   "id": "d71c52e2",
   "metadata": {},
   "outputs": [],
   "source": [
    "#find daily returns and cumulate them on a monthly basis- that's what the resample function does\n",
    "mtl_ret = prices.pct_change().resample('M').agg(lambda x: (x+1).prod() -1)\n",
    "\n",
    "#we want to calculate the past 11 month returns, rolled for each month. the first 10 entries will be NaN\n",
    "past_11 = (mtl_ret+1).rolling(11).apply(np.prod)-1"
   ]
  },
  {
   "cell_type": "markdown",
   "id": "69a13a08",
   "metadata": {},
   "source": [
    "Calculate SPY monthly returns over same period"
   ]
  },
  {
   "cell_type": "code",
   "execution_count": 4,
   "id": "de13d12d",
   "metadata": {},
   "outputs": [],
   "source": [
    "#spy prices and monthly returns\n",
    "\n",
    "SPY= pd.read_pickle('SPY_11yr.pkl')\n",
    "SPY = SPY['Adj Close']\n",
    "SPY_mtl = SPY.pct_change().resample('M').agg(lambda x: (x+1).prod() -1)"
   ]
  },
  {
   "cell_type": "markdown",
   "id": "88f3bc9c",
   "metadata": {},
   "source": [
    "#### Create function for momentum strategy, taking a date as an input"
   ]
  },
  {
   "cell_type": "code",
   "execution_count": 26,
   "id": "8fd79d1d",
   "metadata": {},
   "outputs": [],
   "source": [
    "def momentum(formation):\n",
    "    end_measurement = formation - MonthEnd(1)\n",
    "    ret_12 = past_11.loc[end_measurement]\n",
    "    ret_12 = ret_12.reset_index()\n",
    "    ret_12['decile']= pd.qcut(ret_12.iloc[:,1],10, labels=False,duplicates='drop')\n",
    "    winners = ret_12[ret_12.decile ==9]\n",
    "    losers= ret_12[ret_12.decile <8]\n",
    "    winnerret= mtl_ret.loc[formation +MonthEnd(1), mtl_ret.columns.isin(winners['index'])]\n",
    "    loserret =  mtl_ret.loc[formation +MonthEnd(1), mtl_ret.columns.isin(losers['index'])]\n",
    "    SPYret= SPY_mtl.loc[formation + MonthEnd(1)]\n",
    "    Momentumprofit =    winnerret.mean() -loserret.mean()\n",
    "    return Momentumprofit"
   ]
  },
  {
   "cell_type": "markdown",
   "id": "740b375d",
   "metadata": {},
   "source": [
    "#### Define backtest, output is 2 dataframes, one is returns, other is indexed returns. Both vs market"
   ]
  },
  {
   "cell_type": "code",
   "execution_count": 27,
   "id": "938a2306",
   "metadata": {},
   "outputs": [],
   "source": [
    "def momentum_backtest(formation):\n",
    "    #Backtest\n",
    "    end_date = dt.datetime(2020,12,30) #last date in the dataset we have\n",
    "    start_date = formation\n",
    "    num_months = (end_date.year - start_date.year) * 12 + (end_date. month - start_date. month)\n",
    "    profits = []\n",
    "    dates= []\n",
    "    for i in range(num_months):\n",
    "        profits.append(momentum(formation + MonthEnd(i)))\n",
    "        dates.append(formation + MonthEnd(i))\n",
    "    \n",
    "    \n",
    "    #creating a dataframe with monthly returns of each strategy\n",
    "    frame= pd.DataFrame(profits)\n",
    "    \n",
    "    #end_date1 = dt.datetime(2020,12,30)\n",
    "    a= formation.date()\n",
    "    b= end_date.date()\n",
    "    SPY_cut = SPY_mtl.loc(axis=0)[a:b]\n",
    "    frame['SP500']= SPY_cut.values\n",
    "    \n",
    "    frame['Date']= pd.DataFrame(dates)\n",
    "    frame = frame.set_index('Date')\n",
    "    frame.columns =['Momentum', 'SP500']\n",
    "    #excess return column\n",
    "    frame['Excess']= frame.iloc[:,0] - frame.iloc[:,1]\n",
    "    #when do we have outperformance?\n",
    "    frame['Outperformed'] =['Yes' if i>0 else 'No' for i in frame.Excess]\n",
    "    \n",
    "    # creating a df with indexed returns\n",
    "    # make lists of returns\n",
    "    indexed_profits = [100]\n",
    "    indexed_spy= [100]\n",
    "    x = 100\n",
    "    y = 100\n",
    "    for i in frame.Momentum:\n",
    "        x= x*(1+ i)\n",
    "        indexed_profits.append(x)\n",
    "    for i in frame.SP500:\n",
    "        y= y*(1+i)\n",
    "        indexed_spy.append(y)\n",
    "    #combine lists into df\n",
    "    indexed_frame= pd.DataFrame(indexed_profits)\n",
    "    indexed_frame['SP500']= pd.DataFrame(indexed_spy)\n",
    "    indexed_frame['Date']= pd.DataFrame(dates)\n",
    "    indexed_frame = indexed_frame.set_index('Date')\n",
    "    indexed_frame.columns =['Momentum', 'SP500']\n",
    "\n",
    "    return frame, indexed_frame"
   ]
  },
  {
   "cell_type": "markdown",
   "id": "e6f9e43a",
   "metadata": {},
   "source": [
    "Run Backtest"
   ]
  },
  {
   "cell_type": "code",
   "execution_count": 28,
   "id": "cf9d2512",
   "metadata": {},
   "outputs": [
    {
     "data": {
      "text/plain": [
       "<AxesSubplot:xlabel='Date'>"
      ]
     },
     "execution_count": 28,
     "metadata": {},
     "output_type": "execute_result"
    },
    {
     "data": {
      "image/png": "[encoded data removed]",
      "text/plain": [
       "<Figure size 432x288 with 1 Axes>"
      ]
     },
     "metadata": {
      "needs_background": "light"
     },
     "output_type": "display_data"
    }
   ],
   "source": [
    "formation = dt.datetime(2010,12,31)\n",
    "\n",
    "frame, indexed_frame = momentum_backtest(formation)\n",
    "\n",
    "indexed_frame.plot()"
   ]
  },
  {
   "cell_type": "code",
   "execution_count": 8,
   "id": "70f30150",
   "metadata": {},
   "outputs": [
    {
     "data": {
      "text/plain": [
       "0.5166666666666667"
      ]
     },
     "execution_count": 8,
     "metadata": {},
     "output_type": "execute_result"
    }
   ],
   "source": [
    "x =frame[frame.Outperformed ==\"Yes\"].shape\n",
    "y =frame.shape\n",
    "\n",
    "x[0]/y[0]\n"
   ]
  },
  {
   "cell_type": "markdown",
   "id": "28cf6514",
   "metadata": {},
   "source": [
    "Performance analysis:\n",
    "\n",
    "Maximum daily drawdowns are important- but currently only have monthly returns. \n",
    "Plot a histogram of monthly returns\n",
    "How many times was there a 5%+ daily drawdown?\n",
    "\n",
    "Visibility into the portfolio- which stocks were held onto the longest? Find a way to log trades\n",
    "\n",
    "Calculate betas properly- need historical risk free rates, and need market risk premium- although could just use SPY returns\n",
    "- What period look back should betas be calculated on? 1 month? 3 month rolling? An average across whole period and then min/max?\n",
    "\n",
    "\n"
   ]
  },
  {
   "cell_type": "code",
   "execution_count": 30,
   "id": "de846b6f",
   "metadata": {},
   "outputs": [
    {
     "name": "stdout",
     "output_type": "stream",
     "text": [
      "0.1940313281589688\n",
      "0.9545913836522045\n"
     ]
    }
   ],
   "source": [
    "corr1= frame['Momentum'].corr(frame['SP500'])\n",
    "corr2= indexed_frame['Momentum'].corr(indexed_frame['SP500'])\n",
    "\n",
    "#corr on monthly returns is lower than indexed returns. which one should i use?\n",
    "print(corr1)\n",
    "print(corr2)"
   ]
  },
  {
   "cell_type": "code",
   "execution_count": 37,
   "id": "f84f3175",
   "metadata": {},
   "outputs": [
    {
     "data": {
      "text/plain": [
       "40.897963696145055"
      ]
     },
     "execution_count": 37,
     "metadata": {},
     "output_type": "execute_result"
    }
   ],
   "source": [
    "std1= frame['Momentum'].std()\n",
    "ret1= (indexed_frame['Momentum'].iloc[-1] - indexed_frame['Momentum'].iloc[0])/ indexed_frame['Momentum'].iloc[0]\n",
    "sharpe = (((ret1 +1)**(1/11)) -0.02)/std1\n",
    "sharpe"
   ]
  },
  {
   "cell_type": "code",
   "execution_count": 35,
   "id": "9bf7bf9a",
   "metadata": {},
   "outputs": [
    {
     "data": {
      "text/plain": [
       "-0.06691560383095296"
      ]
     },
     "execution_count": 35,
     "metadata": {},
     "output_type": "execute_result"
    }
   ],
   "source": [
    "frame['Momentum'].min()\n",
    "\n"
   ]
  },
  {
   "cell_type": "code",
   "execution_count": 11,
   "id": "4ca3838d",
   "metadata": {},
   "outputs": [],
   "source": [
    "#calculating betas\n",
    "from sklearn.linear_model import LinearRegression\n",
    "import matplotlib.pyplot as plt  # To visualize\n",
    "\n",
    "#need to find a risk free rate to use, as well as "
   ]
  },
  {
   "cell_type": "code",
   "execution_count": 38,
   "id": "7ad6f4d7",
   "metadata": {},
   "outputs": [],
   "source": [
    "X = indexed_frame.iloc[:, 1].values.reshape(-1, 1)  # spy is x axis values converts it into a numpy array\n",
    "Y = indexed_frame.iloc[:, 0].values.reshape(-1, 1)  # momentum is y axis -1 means that calculate the dimension of rows, but have 1 column\n",
    "linear_regressor = LinearRegression()  # create object for the class\n",
    "linear_regressor.fit(X, Y)  # perform linear regression\n",
    "Y_pred = linear_regressor.predict(X)  # make predictions"
   ]
  },
  {
   "cell_type": "code",
   "execution_count": 22,
   "id": "e26ea5ba",
   "metadata": {},
   "outputs": [
    {
     "data": {
      "text/plain": [
       "Date\n",
       "2010-12-31    100.000000\n",
       "2011-01-31    106.530004\n",
       "2011-02-28    108.942437\n",
       "2011-03-31    112.423863\n",
       "2011-04-30    112.306120\n",
       "                 ...    \n",
       "2020-08-31    277.084408\n",
       "2020-09-30    296.498235\n",
       "2020-10-31    284.867211\n",
       "2020-11-30    276.986136\n",
       "NaT           306.774786\n",
       "Name: SP500, Length: 121, dtype: float64"
      ]
     },
     "execution_count": 22,
     "metadata": {},
     "output_type": "execute_result"
    }
   ],
   "source": [
    "indexed_frame.iloc[:, 1]"
   ]
  },
  {
   "cell_type": "code",
   "execution_count": 39,
   "id": "8f4d6ed4",
   "metadata": {},
   "outputs": [
    {
     "name": "stdout",
     "output_type": "stream",
     "text": [
      "[[0.4408508]]\n",
      "[55.78100437]\n"
     ]
    }
   ],
   "source": [
    "print(linear_regressor.coef_)\n",
    "print(linear_regressor.intercept_)"
   ]
  },
  {
   "cell_type": "code",
   "execution_count": 40,
   "id": "4dd87ef0",
   "metadata": {},
   "outputs": [
    {
     "data": {
      "image/png": "[encoded data removed]",
      "text/plain": [
       "<Figure size 432x288 with 1 Axes>"
      ]
     },
     "metadata": {
      "needs_background": "light"
     },
     "output_type": "display_data"
    }
   ],
   "source": [
    "plt.scatter(X, Y)\n",
    "plt.plot(X, Y_pred, color='red')\n",
    "plt.show()"
   ]
  },
  {
   "cell_type": "code",
   "execution_count": 45,
   "id": "c73b0b29",
   "metadata": {},
   "outputs": [
    {
     "data": {
      "text/plain": [
       "(array([1., 0., 1., 1., 0., 0., 0., 0., 3., 0., 1., 1., 2., 2., 0., 5., 1.,\n",
       "        1., 9., 3., 4., 3., 8., 3., 6., 5., 7., 4., 7., 5., 7., 6., 4., 1.,\n",
       "        3., 3., 2., 3., 0., 0., 4., 2., 0., 0., 0., 0., 1., 0., 0., 1.]),\n",
       " array([-0.0669156 , -0.06407332, -0.06123103, -0.05838874, -0.05554646,\n",
       "        -0.05270417, -0.04986188, -0.04701959, -0.04417731, -0.04133502,\n",
       "        -0.03849273, -0.03565044, -0.03280816, -0.02996587, -0.02712358,\n",
       "        -0.0242813 , -0.02143901, -0.01859672, -0.01575443, -0.01291215,\n",
       "        -0.01006986, -0.00722757, -0.00438529, -0.001543  ,  0.00129929,\n",
       "         0.00414158,  0.00698386,  0.00982615,  0.01266844,  0.01551072,\n",
       "         0.01835301,  0.0211953 ,  0.02403759,  0.02687987,  0.02972216,\n",
       "         0.03256445,  0.03540674,  0.03824902,  0.04109131,  0.0439336 ,\n",
       "         0.04677588,  0.04961817,  0.05246046,  0.05530275,  0.05814503,\n",
       "         0.06098732,  0.06382961,  0.06667189,  0.06951418,  0.07235647,\n",
       "         0.07519876]),\n",
       " <BarContainer object of 50 artists>)"
      ]
     },
     "execution_count": 45,
     "metadata": {},
     "output_type": "execute_result"
    },
    {
     "data": {
      "image/png": "[encoded data removed]",
      "text/plain": [
       "<Figure size 432x288 with 1 Axes>"
      ]
     },
     "metadata": {
      "needs_background": "light"
     },
     "output_type": "display_data"
    }
   ],
   "source": [
    "\n",
    "plt.hist(frame['Momentum'], bins=50)"
   ]
  },
  {
   "cell_type": "code",
   "execution_count": 48,
   "id": "e3ff1697",
   "metadata": {},
   "outputs": [
    {
     "data": {
      "text/plain": [
       "(array([ 1.,  0.,  0.,  0.,  0.,  0.,  1.,  0.,  1.,  0.,  1.,  2.,  2.,\n",
       "         1.,  1.,  0.,  0.,  3.,  2.,  3.,  4.,  7.,  1.,  3.,  8.,  7.,\n",
       "         8.,  5., 14.,  8.,  7.,  7.,  5.,  4.,  2.,  3.,  0.,  2.,  2.,\n",
       "         0.,  1.,  1.,  0.,  0.,  0.,  0.,  2.,  0.,  0.,  1.]),\n",
       " array([-0.12511928, -0.12008002, -0.11504075, -0.11000148, -0.10496222,\n",
       "        -0.09992295, -0.09488368, -0.08984442, -0.08480515, -0.07976588,\n",
       "        -0.07472662, -0.06968735, -0.06464809, -0.05960882, -0.05456955,\n",
       "        -0.04953029, -0.04449102, -0.03945175, -0.03441249, -0.02937322,\n",
       "        -0.02433395, -0.01929469, -0.01425542, -0.00921615, -0.00417689,\n",
       "         0.00086238,  0.00590164,  0.01094091,  0.01598018,  0.02101944,\n",
       "         0.02605871,  0.03109798,  0.03613724,  0.04117651,  0.04621578,\n",
       "         0.05125504,  0.05629431,  0.06133357,  0.06637284,  0.07141211,\n",
       "         0.07645137,  0.08149064,  0.08652991,  0.09156917,  0.09660844,\n",
       "         0.10164771,  0.10668697,  0.11172624,  0.11676551,  0.12180477,\n",
       "         0.12684404]),\n",
       " <BarContainer object of 50 artists>)"
      ]
     },
     "execution_count": 48,
     "metadata": {},
     "output_type": "execute_result"
    },
    {
     "data": {
      "image/png": "[encoded data removed]",
      "text/plain": [
       "<Figure size 432x288 with 1 Axes>"
      ]
     },
     "metadata": {
      "needs_background": "light"
     },
     "output_type": "display_data"
    }
   ],
   "source": [
    "plt.hist(frame['SP500'], bins=50)"
   ]
  },
  {
   "cell_type": "code",
   "execution_count": 52,
   "id": "633967ab",
   "metadata": {},
   "outputs": [
    {
     "data": {
      "text/html": [
       "<div>\n",
       "<style scoped>\n",
       "    .dataframe tbody tr th:only-of-type {\n",
       "        vertical-align: middle;\n",
       "    }\n",
       "\n",
       "    .dataframe tbody tr th {\n",
       "        vertical-align: top;\n",
       "    }\n",
       "\n",
       "    .dataframe thead th {\n",
       "        text-align: right;\n",
       "    }\n",
       "</style>\n",
       "<table border=\"1\" class=\"dataframe\">\n",
       "  <thead>\n",
       "    <tr style=\"text-align: right;\">\n",
       "      <th></th>\n",
       "      <th>index</th>\n",
       "      <th>2010-11-30 00:00:00</th>\n",
       "      <th>decile</th>\n",
       "    </tr>\n",
       "  </thead>\n",
       "  <tbody>\n",
       "    <tr>\n",
       "      <th>0</th>\n",
       "      <td>A</td>\n",
       "      <td>0.127132</td>\n",
       "      <td>5</td>\n",
       "    </tr>\n",
       "    <tr>\n",
       "      <th>4</th>\n",
       "      <td>ABBV</td>\n",
       "      <td>0.000000</td>\n",
       "      <td>2</td>\n",
       "    </tr>\n",
       "    <tr>\n",
       "      <th>5</th>\n",
       "      <td>ABC</td>\n",
       "      <td>0.197040</td>\n",
       "      <td>6</td>\n",
       "    </tr>\n",
       "    <tr>\n",
       "      <th>6</th>\n",
       "      <td>ABMD</td>\n",
       "      <td>0.315006</td>\n",
       "      <td>7</td>\n",
       "    </tr>\n",
       "    <tr>\n",
       "      <th>7</th>\n",
       "      <td>ABT</td>\n",
       "      <td>-0.109494</td>\n",
       "      <td>0</td>\n",
       "    </tr>\n",
       "    <tr>\n",
       "      <th>...</th>\n",
       "      <td>...</td>\n",
       "      <td>...</td>\n",
       "      <td>...</td>\n",
       "    </tr>\n",
       "    <tr>\n",
       "      <th>498</th>\n",
       "      <td>XRAY</td>\n",
       "      <td>-0.116761</td>\n",
       "      <td>0</td>\n",
       "    </tr>\n",
       "    <tr>\n",
       "      <th>499</th>\n",
       "      <td>XYL</td>\n",
       "      <td>0.000000</td>\n",
       "      <td>2</td>\n",
       "    </tr>\n",
       "    <tr>\n",
       "      <th>501</th>\n",
       "      <td>ZBH</td>\n",
       "      <td>-0.166639</td>\n",
       "      <td>0</td>\n",
       "    </tr>\n",
       "    <tr>\n",
       "      <th>502</th>\n",
       "      <td>ZBRA</td>\n",
       "      <td>0.285361</td>\n",
       "      <td>7</td>\n",
       "    </tr>\n",
       "    <tr>\n",
       "      <th>504</th>\n",
       "      <td>ZTS</td>\n",
       "      <td>0.000000</td>\n",
       "      <td>2</td>\n",
       "    </tr>\n",
       "  </tbody>\n",
       "</table>\n",
       "<p>404 rows × 3 columns</p>\n",
       "</div>"
      ],
      "text/plain": [
       "    index  2010-11-30 00:00:00  decile\n",
       "0       A             0.127132       5\n",
       "4    ABBV             0.000000       2\n",
       "5     ABC             0.197040       6\n",
       "6    ABMD             0.315006       7\n",
       "7     ABT            -0.109494       0\n",
       "..    ...                  ...     ...\n",
       "498  XRAY            -0.116761       0\n",
       "499   XYL             0.000000       2\n",
       "501   ZBH            -0.166639       0\n",
       "502  ZBRA             0.285361       7\n",
       "504   ZTS             0.000000       2\n",
       "\n",
       "[404 rows x 3 columns]"
      ]
     },
     "execution_count": 52,
     "metadata": {},
     "output_type": "execute_result"
    }
   ],
   "source": [
    "end_measurement = formation - MonthEnd(1)\n",
    "ret_12 = past_11.loc[end_measurement]\n",
    "ret_12 = ret_12.reset_index()\n",
    "ret_12['decile']= pd.qcut(ret_12.iloc[:,1],10, labels=False,duplicates='drop')\n",
    "winners = ret_12[ret_12.decile ==9]\n",
    "losers= ret_12[ret_12.decile <8]\n",
    "winnerret= mtl_ret.loc[formation +MonthEnd(1), mtl_ret.columns.isin(winners['index'])]\n",
    "loserret =  mtl_ret.loc[formation +MonthEnd(1), mtl_ret.columns.isin(losers['index'])]\n",
    "SPYret= SPY_mtl.loc[formation + MonthEnd(1)]\n",
    "Momentumprofit =    winnerret.mean() -loserret.mean()\n",
    "\n"
   ]
  }
 ],
 "metadata": {
  "kernelspec": {
   "display_name": "Python 3",
   "language": "python",
   "name": "python3"
  },
  "language_info": {
   "codemirror_mode": {
    "name": "ipython",
    "version": 3
   },
   "file_extension": ".py",
   "mimetype": "text/x-python",
   "name": "python",
   "nbconvert_exporter": "python",
   "pygments_lexer": "ipython3",
   "version": "3.9.13"
  }
 },
 "nbformat": 4,
 "nbformat_minor": 5
}
